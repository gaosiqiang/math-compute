{
 "cells": [
  {
   "cell_type": "code",
   "execution_count": 19,
   "metadata": {},
   "outputs": [
    {
     "data": {
      "image/png": "[encoded data removed]",
      "text/plain": [
       "<Figure size 432x288 with 1 Axes>"
      ]
     },
     "metadata": {
      "needs_background": "light"
     },
     "output_type": "display_data"
    }
   ],
   "source": [
    "from mpl_toolkits.axisartist.axislines import SubplotZero\n",
    "import matplotlib.pyplot as plt\n",
    "import numpy as np\n",
    "\n",
    "if 1:\n",
    "    fig = plt.figure(1)\n",
    "    ax = SubplotZero(fig, 111)\n",
    "    fig.add_subplot(ax)\n",
    "\n",
    "    for direction in [\"xzero\", \"yzero\"]:\n",
    "        # adds arrows at the ends of each axis\n",
    "        ax.axis[direction].set_axisline_style(\"-|>\")\n",
    "\n",
    "        # adds X and Y-axis from the origin\n",
    "        ax.axis[direction].set_visible(True)\n",
    "\n",
    "    for direction in [\"left\", \"right\", \"bottom\", \"top\"]:\n",
    "        # hides borders\n",
    "        ax.axis[direction].set_visible(False)\n",
    "\n",
    "    x = np.linspace(-0.5, 1., 100)\n",
    "    ax.plot(x, np.sin(x*np.pi))\n",
    "\n",
    "    plt.show()"
   ]
  },
  {
   "cell_type": "code",
   "execution_count": 24,
   "metadata": {},
   "outputs": [
    {
     "name": "stdout",
     "output_type": "stream",
     "text": [
      "123456456\n",
      "z\n",
      "-123456456\n",
      "123456456\n",
      "-19\n"
     ]
    }
   ],
   "source": [
    "string = \"z123456456\"\n",
    "a = string[1:]\n",
    "k = string[0:1]\n",
    "print(a)\n",
    "print(k)\n",
    "a = int(a, 10)\n",
    "print(a * -1)\n",
    "print(a*1)\n",
    "print(1-20)"
   ]
  },
  {
   "cell_type": "code",
   "execution_count": null,
   "metadata": {},
   "outputs": [],
   "source": [
    ""
   ]
  },
  {
   "cell_type": "code",
   "execution_count": null,
   "metadata": {},
   "outputs": [],
   "source": [
    ""
   ]
  },
  {
   "cell_type": "code",
   "execution_count": null,
   "metadata": {},
   "outputs": [],
   "source": [
    ""
   ]
  },
  {
   "cell_type": "code",
   "execution_count": null,
   "metadata": {},
   "outputs": [],
   "source": [
    ""
   ]
  },
  {
   "cell_type": "code",
   "execution_count": null,
   "metadata": {},
   "outputs": [],
   "source": [
    ""
   ]
  },
  {
   "cell_type": "code",
   "execution_count": null,
   "metadata": {},
   "outputs": [],
   "source": [
    ""
   ]
  }
 ],
 "metadata": {
  "kernelspec": {
   "display_name": "Python 3 (ipykernel)",
   "language": "python",
   "name": "python3"
  },
  "language_info": {
   "codemirror_mode": {
    "name": "ipython",
    "version": 3.0
   },
   "file_extension": ".py",
   "mimetype": "text/x-python",
   "name": "python",
   "nbconvert_exporter": "python",
   "pygments_lexer": "ipython3",
   "version": "3.9.12"
  }
 },
 "nbformat": 4,
 "nbformat_minor": 0
}