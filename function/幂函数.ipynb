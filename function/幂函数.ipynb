{
 "cells": [
  {
   "cell_type": "code",
   "execution_count": 211,
   "id": "56ff4885",
   "metadata": {},
   "outputs": [
    {
     "data": {
      "image/png": "[encoded data removed]",
      "text/plain": [
       "<Figure size 720x720 with 1 Axes>"
      ]
     },
     "metadata": {
      "needs_background": "light"
     },
     "output_type": "display_data"
    }
   ],
   "source": [
    "import math\n",
    "import numpy as np #导入数值计算模块\n",
    "import matplotlib.pyplot as plt #导入绘图模块\n",
    "import mpl_toolkits.axisartist as axisartist #导入坐标轴加工模块\n",
    "fig=plt.figure(figsize=(10,10)) #新建画布\n",
    "ax=axisartist.Subplot(fig,111) #使用axisartist.Subplot方法创建一个绘图区对象ax\n",
    "fig.add_axes(ax) #将绘图区对象添加到画布中\n",
    "\n",
    "ax.axis[:].set_visible(False) #隐藏原来的实线矩形\n",
    "\n",
    "ax.axis[\"x\"]=ax.new_floating_axis(0,0,axis_direction=\"bottom\") #添加x轴\n",
    "ax.axis[\"y\"]=ax.new_floating_axis(1,0,axis_direction=\"bottom\") #添加y轴\n",
    "\n",
    "ax.axis[\"x\"].set_axisline_style(\"->\",size=1.0) #给x坐标轴加箭头\n",
    "ax.axis[\"y\"].set_axisline_style(\"->\",size=1.0) #给y坐标轴加箭头\n",
    "# ax.annotate(s='x' ,xy=(2*math.pi,0) ,xytext=(2*math.pi,0.1)) #标注x轴\n",
    "# ax.annotate(s='y' ,xy=(0,1.0) ,xytext=(-0.5,1.0)) #标注y轴\n",
    "ax.annotate('x' ,xy=(2*math.pi,0) ,xytext=(10,0.5)) #标注x轴\n",
    "ax.annotate('y' ,xy=(0,1.0) ,xytext=(-0.5,10.0)) #标注y轴\n",
    "\n",
    "# plt.rcParams['font.sans-serif']=['Adobe Fangsong Std']\n",
    "# plt.rcParams['font.family'] = ['sans-serif']\n",
    "# plt.rcParams['font.sans-serif'] = ['MingLiU']\n",
    "plt.rcParams['font.family'] = 'DejaVu Sans'\n",
    "plt.rcParams['axes.unicode_minus'] = False   # 步骤二（解决坐标轴负数的负号显示问题）\n",
    "ax.annotate('1-quadrant' ,xy=(2, 2) ,xytext=(5, 5)) #标注第一象限\n",
    "ax.annotate('2-quadrant' ,xy=(2, 2) ,xytext=(-5, 5)) #标注第二象限\n",
    "ax.annotate('3-quadrant' ,xy=(2, 2) ,xytext=(-5, -5)) #标注第三象限\n",
    "ax.annotate('4-quadrant' ,xy=(2, 2) ,xytext=(5, -5)) #标注第四象限\n",
    "\n",
    "plt.xlim(-10,10) #设置横坐标范围\n",
    "plt.ylim(-10,10) #设置纵坐标范围\n",
    "# ax.set_xticks([-2*math.pi,-math.pi,0,math.pi,2*math.pi]) #设置x轴刻度\n",
    "ax.set_xticks([-10,-9,-8,-7,-6,-5,-4,-3,-2,-1,1,2,3,4,5,6,7,8,9,10]) #设置x轴刻度\n",
    "ax.set_yticks([-10,-9,-8,-7,-6,-5,-4,-3,-2,-1,1,2,3,4,5,6,7,8,9,10]) #设置y轴刻度\n",
    "\n",
    "ax.annotate('o' ,xy=(2, 2) ,xytext=(0.5, 0.5)) #标注坐标系原点o\n",
    "\n",
    "# y=[] #用来存放函数值\n",
    "# x=np.linspace(-2*math.pi,2*math.pi,100) #构造横坐标数据\n",
    "# for xi in x: #生成函数值\n",
    "#     y.append(math.sin(xi))#追加\n",
    "\n",
    "# my code\n",
    "y = []\n",
    "y1 = []\n",
    "x = []\n",
    "\n",
    "# 生成指数函数数据\n",
    "a = 0 # 常数\n",
    "b = 1 # 常数\n",
    "c = a / b\n",
    "if (b % 2) == 0:\n",
    "    parity = 0 # a是偶数\n",
    "else:\n",
    "    parity = 1 # a是奇数\n",
    "\n",
    "# print(parity, c)\n",
    "\n",
    "n = 10\n",
    "counter = -11\n",
    "\n",
    "while counter < n:\n",
    "    counter += 0.001 # 数据的颗粒度\n",
    "    \n",
    "    # 增加x的取值区间的判定逻辑\n",
    "    if (c>0 and c<1 and parity == 0):\n",
    "        if counter >= 0:\n",
    "            x.append(round(counter, 2))\n",
    "        \n",
    "    elif (c<0 and counter!=0):\n",
    "        x.append(counter)\n",
    "        \n",
    "    else:\n",
    "        x.append(counter)\n",
    "\n",
    "#     x.append(counter)\n",
    "#     print(counter)\n",
    "\n",
    "\n",
    "\n",
    "for item in x :\n",
    "    y.append(item**c)\n",
    "    \n",
    "#     print('({},{})' . format(item, item**a))\n",
    "    \n",
    "\n",
    "plt.plot(x,y,color=\"blue\") #描点连线\n",
    "\n",
    "# plt.title('asd')\n",
    "\n",
    "plt.show() #出图"
   ]
  },
  {
   "cell_type": "code",
   "execution_count": null,
   "id": "de2fd5fc",
   "metadata": {},
   "outputs": [],
   "source": []
  },
  {
   "cell_type": "code",
   "execution_count": null,
   "id": "cf0a10e0",
   "metadata": {},
   "outputs": [],
   "source": []
  }
 ],
 "metadata": {
  "kernelspec": {
   "display_name": "Python 3 (ipykernel)",
   "language": "python",
   "name": "python3"
  },
  "language_info": {
   "codemirror_mode": {
    "name": "ipython",
    "version": 3
   },
   "file_extension": ".py",
   "mimetype": "text/x-python",
   "name": "python",
   "nbconvert_exporter": "python",
   "pygments_lexer": "ipython3",
   "version": "3.9.12"
  }
 },
 "nbformat": 4,
 "nbformat_minor": 5
}
